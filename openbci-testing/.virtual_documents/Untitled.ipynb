import pandas as pd
import numpy as np
REST = 1
LEFT = 2
RIGHT = 3
LEG = 4
GRAB = 5


data = pd.read_csv('bci_log.csv')
data = data[data['mode'] != 'none']

filtered_data = [REST if k=='rest/none' else 
                 LEFT if k=='left' else
                 RIGHT if k=='right' else
                 LEG if k=='leg' else
                 GRAB if k=='grab' else -1000 for k in data['mode'].values]

data['filtered_mode'] = filtered_data

state_transitions = np.where(np.diff(filtered_data)==1)[0]

data = data.drop(data.index[:state_transitions[2]+1])

data



