{
 "cells": [
  {
   "cell_type": "code",
   "execution_count": 1,
   "id": "aa5c81c5-604e-49ab-a28c-2ce09475e8e5",
   "metadata": {},
   "outputs": [],
   "source": [
    "import pandas as pd\n",
    "import numpy as np\n",
    "REST = 1\n",
    "LEFT = 2\n",
    "RIGHT = 3\n",
    "LEG = 4\n",
    "GRAB = 5"
   ]
  },
  {
   "cell_type": "code",
   "execution_count": 45,
   "id": "dbb5b1d2-1366-4050-8639-b886be17d86f",
   "metadata": {},
   "outputs": [],
   "source": [
    "data = pd.read_csv('bci_log.csv')\n",
    "data = data[data['mode'] != 'none']\n",
    "\n",
    "filtered_data = [REST if k=='rest/none' else \n",
    "                 LEFT if k=='left' else\n",
    "                 RIGHT if k=='right' else\n",
    "                 LEG if k=='leg' else\n",
    "                 GRAB if k=='grab' else -1000 for k in data['mode'].values]\n",
    "\n",
    "data['filtered_mode'] = filtered_data\n",
    "\n",
    "state_transitions = np.where(np.diff(filtered_data)==1)[0]\n",
    "\n",
    "data = data.drop(data.index[:state_transitions[2]+1])\n",
    "\n",
    "data.to_csv('filtered_data.csv')"
   ]
  },
  {
   "cell_type": "code",
   "execution_count": null,
   "id": "edf8f605-b468-4173-beb9-993744e82694",
   "metadata": {},
   "outputs": [],
   "source": []
  }
 ],
 "metadata": {
  "kernelspec": {
   "display_name": "Python 3 (ipykernel)",
   "language": "python",
   "name": "python3"
  },
  "language_info": {
   "codemirror_mode": {
    "name": "ipython",
    "version": 3
   },
   "file_extension": ".py",
   "mimetype": "text/x-python",
   "name": "python",
   "nbconvert_exporter": "python",
   "pygments_lexer": "ipython3",
   "version": "3.12.7"
  }
 },
 "nbformat": 4,
 "nbformat_minor": 5
}
